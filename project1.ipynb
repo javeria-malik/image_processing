{
 "cells": [
  {
   "cell_type": "code",
   "execution_count": 17,
   "id": "44b3f183",
   "metadata": {},
   "outputs": [],
   "source": [
    "import cv2"
   ]
  },
  {
   "cell_type": "markdown",
   "id": "15d087cc",
   "metadata": {},
   "source": [
    "# PROJECT: project is to take image and convert it into gray and then save it"
   ]
  },
  {
   "cell_type": "code",
   "execution_count": 18,
   "id": "f59b7b3e",
   "metadata": {},
   "outputs": [
    {
     "name": "stdout",
     "output_type": "stream",
     "text": [
      "Enter the path and theb name of imagesC:\\\\Users\\\\HP\\\\Desktop\\\\citrus pics\\\\pic1.JPG\n",
      "you enter path is  C:\\\\Users\\\\HP\\\\Desktop\\\\citrus pics\\\\pic1.JPG\n"
     ]
    }
   ],
   "source": [
    "path=input(\"Enter the path and theb name of images\")\n",
    "print(\"you enter path is \",path)"
   ]
  },
  {
   "cell_type": "code",
   "execution_count": 19,
   "id": "f86f98f1",
   "metadata": {},
   "outputs": [],
   "source": [
    "img=cv2.imread(path,0)# convert the image into gray\n",
    "#img=cv2.resize(img,(500,600))\n",
    "img=cv2.flip(img,0)# will reverse the image\n",
    "cv2.imshow(\"converted image is\",img)\n",
    "cv2.waitKey(0)\n",
    "k=cv2.waitKey(0)\n",
    "if k==ord(\"s\"):\n",
    "    cv2.imwrite(\"H:\\\\output.png\",img)\n",
    "else:\n",
    "    cv2.destroyAllWindows()"
   ]
  },
  {
   "cell_type": "code",
   "execution_count": null,
   "id": "15f870cf",
   "metadata": {},
   "outputs": [],
   "source": []
  }
 ],
 "metadata": {
  "kernelspec": {
   "display_name": "Python 3 (ipykernel)",
   "language": "python",
   "name": "python3"
  },
  "language_info": {
   "codemirror_mode": {
    "name": "ipython",
    "version": 3
   },
   "file_extension": ".py",
   "mimetype": "text/x-python",
   "name": "python",
   "nbconvert_exporter": "python",
   "pygments_lexer": "ipython3",
   "version": "3.11.4"
  }
 },
 "nbformat": 4,
 "nbformat_minor": 5
}
