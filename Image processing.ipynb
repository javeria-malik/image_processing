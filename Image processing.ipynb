{
 "cells": [
  {
   "cell_type": "code",
   "execution_count": 2,
   "id": "5fde6c70",
   "metadata": {},
   "outputs": [],
   "source": [
    "import cv2\n"
   ]
  },
  {
   "cell_type": "code",
   "execution_count": 3,
   "id": "da8d7501",
   "metadata": {},
   "outputs": [],
   "source": [
    "img1=cv2.imread(\"C:\\\\Users\\\\HP\\\\Desktop\\\\fyp\\\\Citrus\\\\Citrus\\\\Fruits\\\\Canker\\\\Canker (88).jpg\",1)# here 1 means the colorful \n",
    "# by default every vaalue is 1"
   ]
  },
  {
   "cell_type": "code",
   "execution_count": 4,
   "id": "1e2bd5cf",
   "metadata": {},
   "outputs": [],
   "source": [
    "img1=cv2.resize(img1,(300,400))"
   ]
  },
  {
   "cell_type": "code",
   "execution_count": 5,
   "id": "3afd0634",
   "metadata": {},
   "outputs": [
    {
     "data": {
      "text/plain": [
       "'cv2.imshow(\"original\",img1)\\ncv2.waitKey()\\ncv2.destroyAllwindows()# while runing the error will remove '"
      ]
     },
     "execution_count": 5,
     "metadata": {},
     "output_type": "execute_result"
    }
   ],
   "source": [
    "\"\"\"cv2.imshow(\"original\",img1)\n",
    "cv2.waitKey()\n",
    "cv2.destroyAllwindows()# while runing the error will remove \"\"\""
   ]
  },
  {
   "cell_type": "code",
   "execution_count": 6,
   "id": "4108c4aa",
   "metadata": {},
   "outputs": [
    {
     "name": "stdout",
     "output_type": "stream",
     "text": [
      "[[[115 113 105]\n",
      "  [121 119 111]\n",
      "  [118 115 110]\n",
      "  ...\n",
      "  [138 176 128]\n",
      "  [116 176 113]\n",
      "  [ 97 170  98]]\n",
      "\n",
      " [[117 114 108]\n",
      "  [121 119 112]\n",
      "  [117 113 109]\n",
      "  ...\n",
      "  [142 178 131]\n",
      "  [113 173 110]\n",
      "  [ 94 167  96]]\n",
      "\n",
      " [[119 115 111]\n",
      "  [121 118 114]\n",
      "  [115 111 107]\n",
      "  ...\n",
      "  [146 180 135]\n",
      "  [111 168 107]\n",
      "  [ 91 163  93]]\n",
      "\n",
      " ...\n",
      "\n",
      " [[135 132 127]\n",
      "  [139 136 131]\n",
      "  [140 137 133]\n",
      "  ...\n",
      "  [ 84 100  86]\n",
      "  [ 81 104  86]\n",
      "  [ 79 105  86]]\n",
      "\n",
      " [[136 133 128]\n",
      "  [140 137 132]\n",
      "  [140 137 132]\n",
      "  ...\n",
      "  [ 89 106  92]\n",
      "  [ 88 112  93]\n",
      "  [ 84 112  90]]\n",
      "\n",
      " [[137 134 129]\n",
      "  [140 137 132]\n",
      "  [140 137 132]\n",
      "  ...\n",
      "  [ 94 111  97]\n",
      "  [ 93 118  99]\n",
      "  [ 87 116  93]]]\n"
     ]
    }
   ],
   "source": [
    "print(img1)"
   ]
  },
  {
   "cell_type": "code",
   "execution_count": 7,
   "id": "d5b7b744",
   "metadata": {},
   "outputs": [
    {
     "data": {
      "text/plain": [
       "'img2=cv2.imread(\"C:\\\\Users\\\\HP\\\\Desktop\\\\fyp\\\\Citrus\\\\Citrus\\\\Fruits\\\\Canker\\\\Canker (88).jpg\",0)# here 1 means the colorful \\n# by default every vaalue is 1 # while 0 tyrns the image into gray \\nimg2=cv2.resize(img2,(300,400))\\ncv2.imshow(\"original\",img2)\\ncv2.waitKey()\\ncv2.destroyAllwindows()# while runing the error will remove '"
      ]
     },
     "execution_count": 7,
     "metadata": {},
     "output_type": "execute_result"
    }
   ],
   "source": [
    "\"\"\"img2=cv2.imread(\"C:\\\\Users\\\\HP\\\\Desktop\\\\fyp\\\\Citrus\\\\Citrus\\\\Fruits\\\\Canker\\\\Canker (88).jpg\",0)# here 1 means the colorful \n",
    "# by default every vaalue is 1 # while 0 tyrns the image into gray \n",
    "img2=cv2.resize(img2,(300,400))\n",
    "cv2.imshow(\"original\",img2)\n",
    "cv2.waitKey()\n",
    "cv2.destroyAllwindows()# while runing the error will remove \"\"\""
   ]
  },
  {
   "cell_type": "markdown",
   "id": "e3102636",
   "metadata": {},
   "source": [
    "waitKey() parameter use to wait the image by default its value is 0"
   ]
  },
  {
   "cell_type": "code",
   "execution_count": 8,
   "id": "9152ac4c",
   "metadata": {},
   "outputs": [
    {
     "ename": "AttributeError",
     "evalue": "module 'cv2' has no attribute 'destroyAllwindows'",
     "output_type": "error",
     "traceback": [
      "\u001b[1;31m---------------------------------------------------------------------------\u001b[0m",
      "\u001b[1;31mAttributeError\u001b[0m                            Traceback (most recent call last)",
      "Cell \u001b[1;32mIn[8], line 6\u001b[0m\n\u001b[0;32m      4\u001b[0m cv2\u001b[38;5;241m.\u001b[39mimshow(\u001b[38;5;124m\"\u001b[39m\u001b[38;5;124moriginal\u001b[39m\u001b[38;5;124m\"\u001b[39m,img2)\n\u001b[0;32m      5\u001b[0m cv2\u001b[38;5;241m.\u001b[39mwaitKey(\u001b[38;5;241m5000\u001b[39m)\u001b[38;5;66;03m# it will shows that image will hold for 5 sec\u001b[39;00m\n\u001b[1;32m----> 6\u001b[0m cv2\u001b[38;5;241m.\u001b[39mdestroyAllwindows()\n",
      "\u001b[1;31mAttributeError\u001b[0m: module 'cv2' has no attribute 'destroyAllwindows'"
     ]
    }
   ],
   "source": [
    "img2=cv2.imread(\"C:\\\\Users\\\\HP\\\\Desktop\\\\fyp\\\\Citrus\\\\Citrus\\\\Fruits\\\\Canker\\\\Canker (88).jpg\",0)# here 1 means the colorful \n",
    "# by default every vaalue is 1 # while 0 tyrns the image into gray \n",
    "img2=cv2.resize(img2,(300,400))\n",
    "cv2.imshow(\"original\",img2)\n",
    "cv2.waitKey(5000)# it will shows that image will hold for 5 sec\n",
    "cv2.destroyAllwindows()# while runing the error will remove"
   ]
  },
  {
   "cell_type": "code",
   "execution_count": null,
   "id": "579cfacc",
   "metadata": {},
   "outputs": [],
   "source": [
    "print(img2)# since the img2 array is much smaller then img1"
   ]
  },
  {
   "cell_type": "code",
   "execution_count": null,
   "id": "827fa73d",
   "metadata": {},
   "outputs": [],
   "source": [
    "#instead of given 0 and 1 parmeter for originl and gray scale u can also give paramaeter of -1 which holds unsaturdation \n",
    "# and enhance alpha values"
   ]
  },
  {
   "cell_type": "code",
   "execution_count": 1,
   "id": "9eacc245",
   "metadata": {},
   "outputs": [
    {
     "data": {
      "text/plain": [
       "'img3=cv2.imread(\"C:\\\\Users\\\\HP\\\\Desktop\\\\fyp\\\\Citrus\\\\Citrus\\\\Fruits\\\\Canker\\\\Canker (88).jpg\",-1)# here 1 means the colorful \\n# by default every vaalue is 1 # while 0 tyrns the image into gray \\nimg3=cv2.resize(img3,(300,400))\\ncv2.imshow(\"original\",img2)\\ncv2.waitKey(5000)# it will shows that image will hold for 5 sec\\ncv2.destroyAllwindows()# while runing the error will remove'"
      ]
     },
     "execution_count": 1,
     "metadata": {},
     "output_type": "execute_result"
    }
   ],
   "source": [
    "\"\"\"img3=cv2.imread(\"C:\\\\Users\\\\HP\\\\Desktop\\\\fyp\\\\Citrus\\\\Citrus\\\\Fruits\\\\Canker\\\\Canker (88).jpg\",-1)# here 1 means the colorful \n",
    "# by default every vaalue is 1 # while 0 tyrns the image into gray \n",
    "img3=cv2.resize(img3,(300,400))\n",
    "cv2.imshow(\"original\",img2)\n",
    "cv2.waitKey(5000)# it will shows that image will hold for 5 sec\n",
    "cv2.destroyAllwindows()# while runing the error will remove\"\"\""
   ]
  },
  {
   "cell_type": "code",
   "execution_count": null,
   "id": "1b979bd2",
   "metadata": {},
   "outputs": [],
   "source": []
  }
 ],
 "metadata": {
  "kernelspec": {
   "display_name": "Python 3 (ipykernel)",
   "language": "python",
   "name": "python3"
  },
  "language_info": {
   "codemirror_mode": {
    "name": "ipython",
    "version": 3
   },
   "file_extension": ".py",
   "mimetype": "text/x-python",
   "name": "python",
   "nbconvert_exporter": "python",
   "pygments_lexer": "ipython3",
   "version": "3.11.4"
  }
 },
 "nbformat": 4,
 "nbformat_minor": 5
}
